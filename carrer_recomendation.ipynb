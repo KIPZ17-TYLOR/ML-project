{
  "cells": [
    {
      "cell_type": "code",
      "execution_count": null,
      "metadata": {
        "colab": {
          "base_uri": "https://localhost:8080/"
        },
        "id": "nVvpRPYtHegB",
        "outputId": "94e68ec3-1314-45b4-f91e-4f1d5627359d"
      },
      "outputs": [
        {
          "ename": "ModuleNotFoundError",
          "evalue": "No module named 'google.colab'",
          "output_type": "error",
          "traceback": [
            "\u001b[1;31m---------------------------------------------------------------------------\u001b[0m",
            "\u001b[1;31mModuleNotFoundError\u001b[0m                       Traceback (most recent call last)",
            "Cell \u001b[1;32mIn[1], line 1\u001b[0m\n\u001b[1;32m----> 1\u001b[0m \u001b[38;5;28;01mfrom\u001b[39;00m\u001b[38;5;250m \u001b[39m\u001b[38;5;21;01mgoogle\u001b[39;00m\u001b[38;5;21;01m.\u001b[39;00m\u001b[38;5;21;01mcolab\u001b[39;00m\u001b[38;5;250m \u001b[39m\u001b[38;5;28;01mimport\u001b[39;00m drive\n\u001b[0;32m      2\u001b[0m drive\u001b[38;5;241m.\u001b[39mmount(\u001b[38;5;124m'\u001b[39m\u001b[38;5;124m/content/drive\u001b[39m\u001b[38;5;124m'\u001b[39m)\n",
            "\u001b[1;31mModuleNotFoundError\u001b[0m: No module named 'google.colab'"
          ]
        }
      ],
      "source": [
        "from google.colab import drive\n",
        "drive.mount('/content/drive')"
      ]
    },
    {
      "cell_type": "code",
      "execution_count": null,
      "metadata": {
        "id": "AlX_RTH3Hj_f"
      },
      "outputs": [],
      "source": [
        "# Cell 1: Import necessary libraries\n",
        "import pandas as pd\n",
        "import numpy as np\n",
        "import matplotlib.pyplot as plt\n",
        "import seaborn as sns\n",
        "from sklearn.model_selection import train_test_split\n",
        "from sklearn.preprocessing import OneHotEncoder, StandardScaler\n",
        "from sklearn.compose import ColumnTransformer\n",
        "from sklearn.pipeline import Pipeline\n",
        "from sklearn.ensemble import RandomForestClassifier\n",
        "from sklearn.metrics import classification_report, confusion_matrix, accuracy_score\n",
        "import joblib\n",
        "\n",
        "# Set display options and plotting style\n",
        "pd.set_option('display.max_columns', None)\n",
        "sns.set(style=\"whitegrid\")"
      ]
    },
    {
      "cell_type": "markdown",
      "metadata": {
        "id": "ePcqVfCiH8c7"
      },
      "source": [
        "Load the dataset"
      ]
    },
    {
      "cell_type": "code",
      "execution_count": null,
      "metadata": {
        "colab": {
          "base_uri": "https://localhost:8080/",
          "height": 313
        },
        "id": "TwYBtKaYHydt",
        "outputId": "d6917af7-88f1-4781-d2e1-650f95b1cbd8"
      },
      "outputs": [
        {
          "name": "stdout",
          "output_type": "stream",
          "text": [
            "Dataset shape: (1000, 15)\n",
            "\n",
            "First 5 rows:\n"
          ]
        },
        {
          "data": {
            "application/vnd.google.colaboratory.intrinsic+json": {
              "summary": "{\n  \"name\": \"df\",\n  \"rows\": 1000,\n  \"fields\": [\n    {\n      \"column\": \"Gender\",\n      \"properties\": {\n        \"dtype\": \"category\",\n        \"num_unique_values\": 2,\n        \"samples\": [\n          \"Female\",\n          \"Male\"\n        ],\n        \"semantic_type\": \"\",\n        \"description\": \"\"\n      }\n    },\n    {\n      \"column\": \"Math_Grade\",\n      \"properties\": {\n        \"dtype\": \"category\",\n        \"num_unique_values\": 6,\n        \"samples\": [\n          \"A\",\n          \"B\"\n        ],\n        \"semantic_type\": \"\",\n        \"description\": \"\"\n      }\n    },\n    {\n      \"column\": \"English_Grade\",\n      \"properties\": {\n        \"dtype\": \"category\",\n        \"num_unique_values\": 6,\n        \"samples\": [\n          \"B\",\n          \"C\"\n        ],\n        \"semantic_type\": \"\",\n        \"description\": \"\"\n      }\n    },\n    {\n      \"column\": \"Kiswahili_Grade\",\n      \"properties\": {\n        \"dtype\": \"category\",\n        \"num_unique_values\": 6,\n        \"samples\": [\n          \"B\",\n          \"C\"\n        ],\n        \"semantic_type\": \"\",\n        \"description\": \"\"\n      }\n    },\n    {\n      \"column\": \"Subject_4\",\n      \"properties\": {\n        \"dtype\": \"category\",\n        \"num_unique_values\": 9,\n        \"samples\": [\n          \"Biology\",\n          \"Religion\"\n        ],\n        \"semantic_type\": \"\",\n        \"description\": \"\"\n      }\n    },\n    {\n      \"column\": \"Subject_5\",\n      \"properties\": {\n        \"dtype\": \"category\",\n        \"num_unique_values\": 9,\n        \"samples\": [\n          \"Chemistry\",\n          \"Business\"\n        ],\n        \"semantic_type\": \"\",\n        \"description\": \"\"\n      }\n    },\n    {\n      \"column\": \"Subject_6\",\n      \"properties\": {\n        \"dtype\": \"category\",\n        \"num_unique_values\": 9,\n        \"samples\": [\n          \"Biology\",\n          \"Chemistry\"\n        ],\n        \"semantic_type\": \"\",\n        \"description\": \"\"\n      }\n    },\n    {\n      \"column\": \"Subject_7\",\n      \"properties\": {\n        \"dtype\": \"category\",\n        \"num_unique_values\": 9,\n        \"samples\": [\n          \"Physics\",\n          \"Computer Science\"\n        ],\n        \"semantic_type\": \"\",\n        \"description\": \"\"\n      }\n    },\n    {\n      \"column\": \"Grade_4\",\n      \"properties\": {\n        \"dtype\": \"category\",\n        \"num_unique_values\": 6,\n        \"samples\": [\n          \"A\",\n          \"B\"\n        ],\n        \"semantic_type\": \"\",\n        \"description\": \"\"\n      }\n    },\n    {\n      \"column\": \"Grade_5\",\n      \"properties\": {\n        \"dtype\": \"category\",\n        \"num_unique_values\": 6,\n        \"samples\": [\n          \"A\",\n          \"E\"\n        ],\n        \"semantic_type\": \"\",\n        \"description\": \"\"\n      }\n    },\n    {\n      \"column\": \"Grade_6\",\n      \"properties\": {\n        \"dtype\": \"category\",\n        \"num_unique_values\": 6,\n        \"samples\": [\n          \"A\",\n          \"C\"\n        ],\n        \"semantic_type\": \"\",\n        \"description\": \"\"\n      }\n    },\n    {\n      \"column\": \"Grade_7\",\n      \"properties\": {\n        \"dtype\": \"category\",\n        \"num_unique_values\": 6,\n        \"samples\": [\n          \"C\",\n          \"D\"\n        ],\n        \"semantic_type\": \"\",\n        \"description\": \"\"\n      }\n    },\n    {\n      \"column\": \"Took_All_Sciences\",\n      \"properties\": {\n        \"dtype\": \"boolean\",\n        \"num_unique_values\": 2,\n        \"samples\": [\n          true,\n          false\n        ],\n        \"semantic_type\": \"\",\n        \"description\": \"\"\n      }\n    },\n    {\n      \"column\": \"Average_Performance\",\n      \"properties\": {\n        \"dtype\": \"number\",\n        \"std\": 0.47206622673352083,\n        \"min\": 0.93,\n        \"max\": 3.71,\n        \"num_unique_values\": 35,\n        \"samples\": [\n          1.21,\n          1.93\n        ],\n        \"semantic_type\": \"\",\n        \"description\": \"\"\n      }\n    },\n    {\n      \"column\": \"Career_Path\",\n      \"properties\": {\n        \"dtype\": \"category\",\n        \"num_unique_values\": 40,\n        \"samples\": [\n          \"Computer Science\",\n          \"Counseling\"\n        ],\n        \"semantic_type\": \"\",\n        \"description\": \"\"\n      }\n    }\n  ]\n}",
              "type": "dataframe",
              "variable_name": "df"
            },
            "text/html": [
              "\n",
              "  <div id=\"df-1498da09-fbd9-4c45-9af3-b233170cae9c\" class=\"colab-df-container\">\n",
              "    <div>\n",
              "<style scoped>\n",
              "    .dataframe tbody tr th:only-of-type {\n",
              "        vertical-align: middle;\n",
              "    }\n",
              "\n",
              "    .dataframe tbody tr th {\n",
              "        vertical-align: top;\n",
              "    }\n",
              "\n",
              "    .dataframe thead th {\n",
              "        text-align: right;\n",
              "    }\n",
              "</style>\n",
              "<table border=\"1\" class=\"dataframe\">\n",
              "  <thead>\n",
              "    <tr style=\"text-align: right;\">\n",
              "      <th></th>\n",
              "      <th>Gender</th>\n",
              "      <th>Math_Grade</th>\n",
              "      <th>English_Grade</th>\n",
              "      <th>Kiswahili_Grade</th>\n",
              "      <th>Subject_4</th>\n",
              "      <th>Subject_5</th>\n",
              "      <th>Subject_6</th>\n",
              "      <th>Subject_7</th>\n",
              "      <th>Grade_4</th>\n",
              "      <th>Grade_5</th>\n",
              "      <th>Grade_6</th>\n",
              "      <th>Grade_7</th>\n",
              "      <th>Took_All_Sciences</th>\n",
              "      <th>Average_Performance</th>\n",
              "      <th>Career_Path</th>\n",
              "    </tr>\n",
              "  </thead>\n",
              "  <tbody>\n",
              "    <tr>\n",
              "      <th>0</th>\n",
              "      <td>Male</td>\n",
              "      <td>A</td>\n",
              "      <td>B</td>\n",
              "      <td>B</td>\n",
              "      <td>Chemistry</td>\n",
              "      <td>Agriculture</td>\n",
              "      <td>History</td>\n",
              "      <td>Geography</td>\n",
              "      <td>A</td>\n",
              "      <td>A</td>\n",
              "      <td>A</td>\n",
              "      <td>C</td>\n",
              "      <td>False</td>\n",
              "      <td>3.43</td>\n",
              "      <td>Business Administration</td>\n",
              "    </tr>\n",
              "    <tr>\n",
              "      <th>1</th>\n",
              "      <td>Female</td>\n",
              "      <td>B</td>\n",
              "      <td>C</td>\n",
              "      <td>B</td>\n",
              "      <td>Religion</td>\n",
              "      <td>Agriculture</td>\n",
              "      <td>Chemistry</td>\n",
              "      <td>Computer Science</td>\n",
              "      <td>B</td>\n",
              "      <td>E</td>\n",
              "      <td>C</td>\n",
              "      <td>C</td>\n",
              "      <td>False</td>\n",
              "      <td>2.21</td>\n",
              "      <td>Telecommunications</td>\n",
              "    </tr>\n",
              "    <tr>\n",
              "      <th>2</th>\n",
              "      <td>Male</td>\n",
              "      <td>C</td>\n",
              "      <td>D</td>\n",
              "      <td>B</td>\n",
              "      <td>Chemistry</td>\n",
              "      <td>Business</td>\n",
              "      <td>Geography</td>\n",
              "      <td>History</td>\n",
              "      <td>F</td>\n",
              "      <td>B</td>\n",
              "      <td>F</td>\n",
              "      <td>D</td>\n",
              "      <td>False</td>\n",
              "      <td>1.43</td>\n",
              "      <td>Education</td>\n",
              "    </tr>\n",
              "    <tr>\n",
              "      <th>3</th>\n",
              "      <td>Male</td>\n",
              "      <td>A</td>\n",
              "      <td>B</td>\n",
              "      <td>C</td>\n",
              "      <td>History</td>\n",
              "      <td>Business</td>\n",
              "      <td>Chemistry</td>\n",
              "      <td>Agriculture</td>\n",
              "      <td>D</td>\n",
              "      <td>C</td>\n",
              "      <td>D</td>\n",
              "      <td>B</td>\n",
              "      <td>False</td>\n",
              "      <td>2.29</td>\n",
              "      <td>Music</td>\n",
              "    </tr>\n",
              "    <tr>\n",
              "      <th>4</th>\n",
              "      <td>Male</td>\n",
              "      <td>A</td>\n",
              "      <td>C</td>\n",
              "      <td>D</td>\n",
              "      <td>Chemistry</td>\n",
              "      <td>Geography</td>\n",
              "      <td>Agriculture</td>\n",
              "      <td>Business</td>\n",
              "      <td>C</td>\n",
              "      <td>A</td>\n",
              "      <td>A</td>\n",
              "      <td>B</td>\n",
              "      <td>False</td>\n",
              "      <td>2.86</td>\n",
              "      <td>Cybersecurity</td>\n",
              "    </tr>\n",
              "  </tbody>\n",
              "</table>\n",
              "</div>\n",
              "    <div class=\"colab-df-buttons\">\n",
              "\n",
              "  <div class=\"colab-df-container\">\n",
              "    <button class=\"colab-df-convert\" onclick=\"convertToInteractive('df-1498da09-fbd9-4c45-9af3-b233170cae9c')\"\n",
              "            title=\"Convert this dataframe to an interactive table.\"\n",
              "            style=\"display:none;\">\n",
              "\n",
              "  <svg xmlns=\"http://www.w3.org/2000/svg\" height=\"24px\" viewBox=\"0 -960 960 960\">\n",
              "    <path d=\"M120-120v-720h720v720H120Zm60-500h600v-160H180v160Zm220 220h160v-160H400v160Zm0 220h160v-160H400v160ZM180-400h160v-160H180v160Zm440 0h160v-160H620v160ZM180-180h160v-160H180v160Zm440 0h160v-160H620v160Z\"/>\n",
              "  </svg>\n",
              "    </button>\n",
              "\n",
              "  <style>\n",
              "    .colab-df-container {\n",
              "      display:flex;\n",
              "      gap: 12px;\n",
              "    }\n",
              "\n",
              "    .colab-df-convert {\n",
              "      background-color: #E8F0FE;\n",
              "      border: none;\n",
              "      border-radius: 50%;\n",
              "      cursor: pointer;\n",
              "      display: none;\n",
              "      fill: #1967D2;\n",
              "      height: 32px;\n",
              "      padding: 0 0 0 0;\n",
              "      width: 32px;\n",
              "    }\n",
              "\n",
              "    .colab-df-convert:hover {\n",
              "      background-color: #E2EBFA;\n",
              "      box-shadow: 0px 1px 2px rgba(60, 64, 67, 0.3), 0px 1px 3px 1px rgba(60, 64, 67, 0.15);\n",
              "      fill: #174EA6;\n",
              "    }\n",
              "\n",
              "    .colab-df-buttons div {\n",
              "      margin-bottom: 4px;\n",
              "    }\n",
              "\n",
              "    [theme=dark] .colab-df-convert {\n",
              "      background-color: #3B4455;\n",
              "      fill: #D2E3FC;\n",
              "    }\n",
              "\n",
              "    [theme=dark] .colab-df-convert:hover {\n",
              "      background-color: #434B5C;\n",
              "      box-shadow: 0px 1px 3px 1px rgba(0, 0, 0, 0.15);\n",
              "      filter: drop-shadow(0px 1px 2px rgba(0, 0, 0, 0.3));\n",
              "      fill: #FFFFFF;\n",
              "    }\n",
              "  </style>\n",
              "\n",
              "    <script>\n",
              "      const buttonEl =\n",
              "        document.querySelector('#df-1498da09-fbd9-4c45-9af3-b233170cae9c button.colab-df-convert');\n",
              "      buttonEl.style.display =\n",
              "        google.colab.kernel.accessAllowed ? 'block' : 'none';\n",
              "\n",
              "      async function convertToInteractive(key) {\n",
              "        const element = document.querySelector('#df-1498da09-fbd9-4c45-9af3-b233170cae9c');\n",
              "        const dataTable =\n",
              "          await google.colab.kernel.invokeFunction('convertToInteractive',\n",
              "                                                    [key], {});\n",
              "        if (!dataTable) return;\n",
              "\n",
              "        const docLinkHtml = 'Like what you see? Visit the ' +\n",
              "          '<a target=\"_blank\" href=https://colab.research.google.com/notebooks/data_table.ipynb>data table notebook</a>'\n",
              "          + ' to learn more about interactive tables.';\n",
              "        element.innerHTML = '';\n",
              "        dataTable['output_type'] = 'display_data';\n",
              "        await google.colab.output.renderOutput(dataTable, element);\n",
              "        const docLink = document.createElement('div');\n",
              "        docLink.innerHTML = docLinkHtml;\n",
              "        element.appendChild(docLink);\n",
              "      }\n",
              "    </script>\n",
              "  </div>\n",
              "\n",
              "\n",
              "<div id=\"df-dbcbd955-16a0-471a-a4ee-9d4d9b0d13e9\">\n",
              "  <button class=\"colab-df-quickchart\" onclick=\"quickchart('df-dbcbd955-16a0-471a-a4ee-9d4d9b0d13e9')\"\n",
              "            title=\"Suggest charts\"\n",
              "            style=\"display:none;\">\n",
              "\n",
              "<svg xmlns=\"http://www.w3.org/2000/svg\" height=\"24px\"viewBox=\"0 0 24 24\"\n",
              "     width=\"24px\">\n",
              "    <g>\n",
              "        <path d=\"M19 3H5c-1.1 0-2 .9-2 2v14c0 1.1.9 2 2 2h14c1.1 0 2-.9 2-2V5c0-1.1-.9-2-2-2zM9 17H7v-7h2v7zm4 0h-2V7h2v10zm4 0h-2v-4h2v4z\"/>\n",
              "    </g>\n",
              "</svg>\n",
              "  </button>\n",
              "\n",
              "<style>\n",
              "  .colab-df-quickchart {\n",
              "      --bg-color: #E8F0FE;\n",
              "      --fill-color: #1967D2;\n",
              "      --hover-bg-color: #E2EBFA;\n",
              "      --hover-fill-color: #174EA6;\n",
              "      --disabled-fill-color: #AAA;\n",
              "      --disabled-bg-color: #DDD;\n",
              "  }\n",
              "\n",
              "  [theme=dark] .colab-df-quickchart {\n",
              "      --bg-color: #3B4455;\n",
              "      --fill-color: #D2E3FC;\n",
              "      --hover-bg-color: #434B5C;\n",
              "      --hover-fill-color: #FFFFFF;\n",
              "      --disabled-bg-color: #3B4455;\n",
              "      --disabled-fill-color: #666;\n",
              "  }\n",
              "\n",
              "  .colab-df-quickchart {\n",
              "    background-color: var(--bg-color);\n",
              "    border: none;\n",
              "    border-radius: 50%;\n",
              "    cursor: pointer;\n",
              "    display: none;\n",
              "    fill: var(--fill-color);\n",
              "    height: 32px;\n",
              "    padding: 0;\n",
              "    width: 32px;\n",
              "  }\n",
              "\n",
              "  .colab-df-quickchart:hover {\n",
              "    background-color: var(--hover-bg-color);\n",
              "    box-shadow: 0 1px 2px rgba(60, 64, 67, 0.3), 0 1px 3px 1px rgba(60, 64, 67, 0.15);\n",
              "    fill: var(--button-hover-fill-color);\n",
              "  }\n",
              "\n",
              "  .colab-df-quickchart-complete:disabled,\n",
              "  .colab-df-quickchart-complete:disabled:hover {\n",
              "    background-color: var(--disabled-bg-color);\n",
              "    fill: var(--disabled-fill-color);\n",
              "    box-shadow: none;\n",
              "  }\n",
              "\n",
              "  .colab-df-spinner {\n",
              "    border: 2px solid var(--fill-color);\n",
              "    border-color: transparent;\n",
              "    border-bottom-color: var(--fill-color);\n",
              "    animation:\n",
              "      spin 1s steps(1) infinite;\n",
              "  }\n",
              "\n",
              "  @keyframes spin {\n",
              "    0% {\n",
              "      border-color: transparent;\n",
              "      border-bottom-color: var(--fill-color);\n",
              "      border-left-color: var(--fill-color);\n",
              "    }\n",
              "    20% {\n",
              "      border-color: transparent;\n",
              "      border-left-color: var(--fill-color);\n",
              "      border-top-color: var(--fill-color);\n",
              "    }\n",
              "    30% {\n",
              "      border-color: transparent;\n",
              "      border-left-color: var(--fill-color);\n",
              "      border-top-color: var(--fill-color);\n",
              "      border-right-color: var(--fill-color);\n",
              "    }\n",
              "    40% {\n",
              "      border-color: transparent;\n",
              "      border-right-color: var(--fill-color);\n",
              "      border-top-color: var(--fill-color);\n",
              "    }\n",
              "    60% {\n",
              "      border-color: transparent;\n",
              "      border-right-color: var(--fill-color);\n",
              "    }\n",
              "    80% {\n",
              "      border-color: transparent;\n",
              "      border-right-color: var(--fill-color);\n",
              "      border-bottom-color: var(--fill-color);\n",
              "    }\n",
              "    90% {\n",
              "      border-color: transparent;\n",
              "      border-bottom-color: var(--fill-color);\n",
              "    }\n",
              "  }\n",
              "</style>\n",
              "\n",
              "  <script>\n",
              "    async function quickchart(key) {\n",
              "      const quickchartButtonEl =\n",
              "        document.querySelector('#' + key + ' button');\n",
              "      quickchartButtonEl.disabled = true;  // To prevent multiple clicks.\n",
              "      quickchartButtonEl.classList.add('colab-df-spinner');\n",
              "      try {\n",
              "        const charts = await google.colab.kernel.invokeFunction(\n",
              "            'suggestCharts', [key], {});\n",
              "      } catch (error) {\n",
              "        console.error('Error during call to suggestCharts:', error);\n",
              "      }\n",
              "      quickchartButtonEl.classList.remove('colab-df-spinner');\n",
              "      quickchartButtonEl.classList.add('colab-df-quickchart-complete');\n",
              "    }\n",
              "    (() => {\n",
              "      let quickchartButtonEl =\n",
              "        document.querySelector('#df-dbcbd955-16a0-471a-a4ee-9d4d9b0d13e9 button');\n",
              "      quickchartButtonEl.style.display =\n",
              "        google.colab.kernel.accessAllowed ? 'block' : 'none';\n",
              "    })();\n",
              "  </script>\n",
              "</div>\n",
              "\n",
              "    </div>\n",
              "  </div>\n"
            ],
            "text/plain": [
              "   Gender Math_Grade English_Grade Kiswahili_Grade  Subject_4    Subject_5  \\\n",
              "0    Male          A             B               B  Chemistry  Agriculture   \n",
              "1  Female          B             C               B   Religion  Agriculture   \n",
              "2    Male          C             D               B  Chemistry     Business   \n",
              "3    Male          A             B               C    History     Business   \n",
              "4    Male          A             C               D  Chemistry    Geography   \n",
              "\n",
              "     Subject_6         Subject_7 Grade_4 Grade_5 Grade_6 Grade_7  \\\n",
              "0      History         Geography       A       A       A       C   \n",
              "1    Chemistry  Computer Science       B       E       C       C   \n",
              "2    Geography           History       F       B       F       D   \n",
              "3    Chemistry       Agriculture       D       C       D       B   \n",
              "4  Agriculture          Business       C       A       A       B   \n",
              "\n",
              "   Took_All_Sciences  Average_Performance              Career_Path  \n",
              "0              False                 3.43  Business Administration  \n",
              "1              False                 2.21       Telecommunications  \n",
              "2              False                 1.43                Education  \n",
              "3              False                 2.29                    Music  \n",
              "4              False                 2.86            Cybersecurity  "
            ]
          },
          "execution_count": 4,
          "metadata": {},
          "output_type": "execute_result"
        }
      ],
      "source": [
        "# Cell 2: Load the dataset\n",
        "df = pd.read_csv('career_recommendation_dataset.csv')\n",
        "\n",
        "# Display basic information about the dataset\n",
        "print(f\"Dataset shape: {df.shape}\")\n",
        "print(\"\\nFirst 5 rows:\")\n",
        "df.head()"
      ]
    },
    {
      "cell_type": "markdown",
      "metadata": {
        "id": "YZA-t4GsIVZL"
      },
      "source": [
        "Examine the data types and check for missing values"
      ]
    },
    {
      "cell_type": "code",
      "execution_count": null,
      "metadata": {
        "colab": {
          "base_uri": "https://localhost:8080/"
        },
        "id": "nRvDVf-GIb81",
        "outputId": "74328c50-6c62-4c86-884b-aa22f51a29f6"
      },
      "outputs": [
        {
          "name": "stdout",
          "output_type": "stream",
          "text": [
            "Data types:\n",
            "Gender                  object\n",
            "Math_Grade              object\n",
            "English_Grade           object\n",
            "Kiswahili_Grade         object\n",
            "Subject_4               object\n",
            "Subject_5               object\n",
            "Subject_6               object\n",
            "Subject_7               object\n",
            "Grade_4                 object\n",
            "Grade_5                 object\n",
            "Grade_6                 object\n",
            "Grade_7                 object\n",
            "Took_All_Sciences         bool\n",
            "Average_Performance    float64\n",
            "Career_Path             object\n",
            "dtype: object\n",
            "\n",
            "Missing values:\n",
            "Gender                 0\n",
            "Math_Grade             0\n",
            "English_Grade          0\n",
            "Kiswahili_Grade        0\n",
            "Subject_4              0\n",
            "Subject_5              0\n",
            "Subject_6              0\n",
            "Subject_7              0\n",
            "Grade_4                0\n",
            "Grade_5                0\n",
            "Grade_6                0\n",
            "Grade_7                0\n",
            "Took_All_Sciences      0\n",
            "Average_Performance    0\n",
            "Career_Path            0\n",
            "dtype: int64\n",
            "\n",
            "Unique subjects:\n",
            "Subject_4: ['Chemistry' 'Religion' 'History' 'Computer Science' 'Agriculture'\n",
            " 'Business' 'Physics' 'Biology' 'Geography']\n",
            "Subject_5: ['Agriculture' 'Business' 'Geography' 'Computer Science' 'Religion'\n",
            " 'Physics' 'Biology' 'Chemistry' 'History']\n",
            "Subject_6: ['History' 'Chemistry' 'Geography' 'Agriculture' 'Physics'\n",
            " 'Computer Science' 'Business' 'Biology' 'Religion']\n",
            "Subject_7: ['Geography' 'Computer Science' 'History' 'Agriculture' 'Business'\n",
            " 'Biology' 'Chemistry' 'Physics' 'Religion']\n",
            "\n",
            "Unique career paths:\n",
            "Career_Path\n",
            "Education                    260\n",
            "Telecommunications           183\n",
            "Business Administration       76\n",
            "Agriculture                   53\n",
            "Fine Arts                     33\n",
            "Food Science                  30\n",
            "Agricultural Science          29\n",
            "Environmental Science         29\n",
            "Forestry                      27\n",
            "Theatre Arts                  26\n",
            "Graphic Design                25\n",
            "Hospitality Management        25\n",
            "Music                         21\n",
            "Tourism                       20\n",
            "Accounting                    17\n",
            "Culinary Arts                 15\n",
            "Human Resource Management     11\n",
            "Psychology                    10\n",
            "Information Technology        10\n",
            "Counseling                    10\n",
            "Economics                     10\n",
            "Marketing                      8\n",
            "Finance                        8\n",
            "Languages                      6\n",
            "Architecture                   6\n",
            "Social Work                    5\n",
            "Computer Science               5\n",
            "Law                            5\n",
            "Cybersecurity                  5\n",
            "Sociology                      5\n",
            "Journalism                     4\n",
            "Data Science                   4\n",
            "Media Studies                  4\n",
            "Software Engineering           3\n",
            "AI & Machine Learning          3\n",
            "Computer Engineering           2\n",
            "Electrical Engineering         2\n",
            "Aerospace Engineering          2\n",
            "International Relations        2\n",
            "Civil Engineering              1\n",
            "Name: count, dtype: int64\n"
          ]
        }
      ],
      "source": [
        "# Cell 3: Check data types and missing values\n",
        "print(\"Data types:\")\n",
        "print(df.dtypes)\n",
        "\n",
        "print(\"\\nMissing values:\")\n",
        "print(df.isnull().sum())\n",
        "\n",
        "# Check unique values in categorical columns\n",
        "print(\"\\nUnique subjects:\")\n",
        "for i in range(4, 8):\n",
        "    col_name = f\"Subject_{i}\"\n",
        "    print(f\"{col_name}: {df[col_name].unique()}\")\n",
        "\n",
        "print(\"\\nUnique career paths:\")\n",
        "print(df['Career_Path'].value_counts())"
      ]
    },
    {
      "cell_type": "markdown",
      "metadata": {
        "id": "YoSy-kenIg-c"
      },
      "source": [
        "Visualize Some aspects of our data"
      ]
    },
    {
      "cell_type": "code",
      "execution_count": null,
      "metadata": {
        "colab": {
          "base_uri": "https://localhost:8080/",
          "height": 1000
        },
        "id": "FWTQ7JQjImIW",
        "outputId": "53b4f4f8-bc87-401d-ce33-746febf5cce1"
      },
      "outputs": [
        {
          "data": {
            "image/png": "[encoded data removed]",
            "text/plain": [
              "<Figure size 1200x500 with 2 Axes>"
            ]
          },
          "metadata": {},
          "output_type": "display_data"
        },
        {
          "data": {
            "image/png": "[encoded data removed]",
            "text/plain": [
              "<Figure size 1200x600 with 1 Axes>"
            ]
          },
          "metadata": {},
          "output_type": "display_data"
        }
      ],
      "source": [
        "# Cell 4: Exploratory data visualization\n",
        "plt.figure(figsize=(12, 5))\n",
        "\n",
        "# Plot 1: Distribution of career paths\n",
        "plt.subplot(1, 2, 1)\n",
        "career_counts = df['Career_Path'].value_counts().sort_values(ascending=False).head(10)\n",
        "sns.barplot(x=career_counts.values, y=career_counts.index)\n",
        "plt.title('Top 10 Career Paths')\n",
        "plt.xlabel('Count')\n",
        "\n",
        "# Plot 2: Distribution of average performance\n",
        "plt.subplot(1, 2, 2)\n",
        "sns.histplot(df['Average_Performance'], bins=20, kde=True)\n",
        "plt.title('Distribution of Average Performance')\n",
        "plt.xlabel('GPA')\n",
        "\n",
        "plt.tight_layout()\n",
        "plt.show()\n",
        "\n",
        "# Additional plot: Subject distribution\n",
        "plt.figure(figsize=(12, 6))\n",
        "subjects = []\n",
        "for i in range(4, 8):\n",
        "    subjects.extend(df[f'Subject_{i}'].tolist())\n",
        "\n",
        "subject_counts = pd.Series(subjects).value_counts()\n",
        "sns.barplot(x=subject_counts.values, y=subject_counts.index)\n",
        "plt.title('Distribution of Optional Subjects')\n",
        "plt.xlabel('Count')\n",
        "plt.tight_layout()\n",
        "plt.show()"
      ]
    },
    {
      "cell_type": "markdown",
      "metadata": {
        "id": "h4w9bZtiJUn8"
      },
      "source": [
        "Filter out rare career before modeling and prepare data for modelling"
      ]
    },
    {
      "cell_type": "code",
      "execution_count": null,
      "metadata": {
        "colab": {
          "base_uri": "https://localhost:8080/"
        },
        "id": "sARyfKh2JOQ0",
        "outputId": "77575e63-7d15-4702-a6d4-6ce0615f320d"
      },
      "outputs": [
        {
          "name": "stdout",
          "output_type": "stream",
          "text": [
            "Removing 1 rare careers: ['Civil Engineering']\n",
            "Remaining dataset size: 999\n",
            "Training set size: 749\n",
            "Testing set size: 250\n"
          ]
        }
      ],
      "source": [
        "# Cell 5 (Fixed - Option 2): Feature engineering and preprocessing\n",
        "# Separate features and target\n",
        "X = df.drop('Career_Path', axis=1)\n",
        "y = df['Career_Path']\n",
        "\n",
        "# Find careers with too few examples (less than 2)\n",
        "career_counts = y.value_counts()\n",
        "rare_careers = career_counts[career_counts < 2].index.tolist()\n",
        "\n",
        "if rare_careers:\n",
        "    print(f\"Removing {len(rare_careers)} rare careers: {rare_careers}\")\n",
        "    # Filter out these rare careers\n",
        "    mask = ~y.isin(rare_careers)\n",
        "    X = X[mask]\n",
        "    y = y[mask]\n",
        "    print(f\"Remaining dataset size: {len(y)}\")\n",
        "\n",
        "# Convert grade columns to numeric values\n",
        "grade_mapping = {'A': 4.0, 'B': 3.0, 'C': 2.0, 'D': 1.0, 'E': 0.5, 'F': 0.0}\n",
        "for col in ['Math_Grade', 'English_Grade', 'Kiswahili_Grade', 'Grade_4', 'Grade_5', 'Grade_6', 'Grade_7']:\n",
        "    X[col] = X[col].map(grade_mapping)\n",
        "\n",
        "# Define categorical and numerical columns\n",
        "categorical_cols = ['Gender', 'Subject_4', 'Subject_5', 'Subject_6', 'Subject_7']\n",
        "numerical_cols = ['Math_Grade', 'English_Grade', 'Kiswahili_Grade', 'Grade_4',\n",
        "                 'Grade_5', 'Grade_6', 'Grade_7', 'Average_Performance']\n",
        "boolean_cols = ['Took_All_Sciences']\n",
        "\n",
        "# Split into training and testing sets with stratify\n",
        "X_train, X_test, y_train, y_test = train_test_split(X, y, test_size=0.25, random_state=42, stratify=y)\n",
        "\n",
        "print(f\"Training set size: {X_train.shape[0]}\")\n",
        "print(f\"Testing set size: {X_test.shape[0]}\")"
      ]
    },
    {
      "cell_type": "markdown",
      "metadata": {
        "id": "oAXDJyY_JhxG"
      },
      "source": [
        "Set up the preprocessing pipeline and train the model\n"
      ]
    },
    {
      "cell_type": "code",
      "execution_count": null,
      "metadata": {
        "colab": {
          "base_uri": "https://localhost:8080/"
        },
        "id": "fl96D922JzBW",
        "outputId": "18cff203-9aee-4617-a14e-77309e55a835"
      },
      "outputs": [
        {
          "name": "stdout",
          "output_type": "stream",
          "text": [
            "Model accuracy: 0.2520\n",
            "\n",
            "Classification Report:\n",
            "                           precision    recall  f1-score   support\n",
            "\n",
            "    AI & Machine Learning       0.00      0.00      0.00         1\n",
            "               Accounting       0.20      0.25      0.22         4\n",
            "     Agricultural Science       0.00      0.00      0.00         7\n",
            "              Agriculture       0.50      0.15      0.24        13\n",
            "             Architecture       0.00      0.00      0.00         2\n",
            "  Business Administration       0.22      0.11      0.14        19\n",
            "         Computer Science       0.00      0.00      0.00         1\n",
            "               Counseling       0.00      0.00      0.00         3\n",
            "            Culinary Arts       0.00      0.00      0.00         4\n",
            "            Cybersecurity       0.00      0.00      0.00         1\n",
            "             Data Science       0.00      0.00      0.00         1\n",
            "                Economics       0.00      0.00      0.00         3\n",
            "                Education       0.30      0.69      0.42        65\n",
            "    Environmental Science       0.00      0.00      0.00         7\n",
            "                  Finance       0.00      0.00      0.00         2\n",
            "                Fine Arts       0.00      0.00      0.00         8\n",
            "             Food Science       0.50      0.12      0.20         8\n",
            "                 Forestry       0.00      0.00      0.00         7\n",
            "           Graphic Design       0.00      0.00      0.00         6\n",
            "   Hospitality Management       0.00      0.00      0.00         6\n",
            "Human Resource Management       0.00      0.00      0.00         3\n",
            "   Information Technology       0.00      0.00      0.00         3\n",
            "               Journalism       0.00      0.00      0.00         1\n",
            "                Languages       0.00      0.00      0.00         2\n",
            "                      Law       0.00      0.00      0.00         1\n",
            "                Marketing       0.00      0.00      0.00         2\n",
            "            Media Studies       0.00      0.00      0.00         1\n",
            "                    Music       0.00      0.00      0.00         5\n",
            "               Psychology       0.00      0.00      0.00         3\n",
            "              Social Work       0.00      0.00      0.00         1\n",
            "                Sociology       0.00      0.00      0.00         1\n",
            "     Software Engineering       0.00      0.00      0.00         1\n",
            "       Telecommunications       0.24      0.24      0.24        46\n",
            "             Theatre Arts       0.00      0.00      0.00         7\n",
            "                  Tourism       0.50      0.20      0.29         5\n",
            "\n",
            "                 accuracy                           0.25       250\n",
            "                macro avg       0.07      0.05      0.05       250\n",
            "             weighted avg       0.19      0.25      0.19       250\n",
            "\n"
          ]
        },
        {
          "name": "stderr",
          "output_type": "stream",
          "text": [
            "/usr/local/lib/python3.11/dist-packages/sklearn/metrics/_classification.py:1565: UndefinedMetricWarning: Precision is ill-defined and being set to 0.0 in labels with no predicted samples. Use `zero_division` parameter to control this behavior.\n",
            "  _warn_prf(average, modifier, f\"{metric.capitalize()} is\", len(result))\n",
            "/usr/local/lib/python3.11/dist-packages/sklearn/metrics/_classification.py:1565: UndefinedMetricWarning: Precision is ill-defined and being set to 0.0 in labels with no predicted samples. Use `zero_division` parameter to control this behavior.\n",
            "  _warn_prf(average, modifier, f\"{metric.capitalize()} is\", len(result))\n",
            "/usr/local/lib/python3.11/dist-packages/sklearn/metrics/_classification.py:1565: UndefinedMetricWarning: Precision is ill-defined and being set to 0.0 in labels with no predicted samples. Use `zero_division` parameter to control this behavior.\n",
            "  _warn_prf(average, modifier, f\"{metric.capitalize()} is\", len(result))\n"
          ]
        }
      ],
      "source": [
        "# Cell 6: Create preprocessing pipeline\n",
        "# Preprocessor for categorical features\n",
        "categorical_transformer = OneHotEncoder(handle_unknown='ignore')\n",
        "\n",
        "# Create column transformer\n",
        "preprocessor = ColumnTransformer(\n",
        "    transformers=[\n",
        "        ('cat', categorical_transformer, categorical_cols),\n",
        "        ('num', 'passthrough', numerical_cols),\n",
        "        ('bool', 'passthrough', boolean_cols)\n",
        "    ])\n",
        "\n",
        "# Create the full pipeline with the RandomForest classifier\n",
        "pipeline = Pipeline(steps=[\n",
        "    ('preprocessor', preprocessor),\n",
        "    ('classifier', RandomForestClassifier(n_estimators=100, random_state=42))\n",
        "])\n",
        "\n",
        "# Train the model\n",
        "pipeline.fit(X_train, y_train)\n",
        "\n",
        "# Evaluate on the test set\n",
        "y_pred = pipeline.predict(X_test)\n",
        "accuracy = accuracy_score(y_test, y_pred)\n",
        "print(f\"Model accuracy: {accuracy:.4f}\")\n",
        "\n",
        "# Display classification report\n",
        "print(\"\\nClassification Report:\")\n",
        "print(classification_report(y_test, y_pred))"
      ]
    },
    {
      "cell_type": "markdown",
      "metadata": {
        "id": "44KFiymzKMrE"
      },
      "source": [
        "Function to make predictions with our model"
      ]
    },
    {
      "cell_type": "code",
      "execution_count": null,
      "metadata": {
        "colab": {
          "base_uri": "https://localhost:8080/"
        },
        "id": "ZzOW4-lJKMXK",
        "outputId": "e7f1d74f-0829-429c-a97d-d23e6b93ad8e"
      },
      "outputs": [
        {
          "name": "stdout",
          "output_type": "stream",
          "text": [
            "Model saved as 'career_recommendation_model.pkl'\n"
          ]
        }
      ],
      "source": [
        "# Cell 7: Create a prediction function for new students\n",
        "def predict_career(student_data, model):\n",
        "    \"\"\"\n",
        "    Predict career path for a new student\n",
        "\n",
        "    Parameters:\n",
        "    student_data (dict): Dictionary containing student information\n",
        "    model: Trained pipeline model\n",
        "\n",
        "    Returns:\n",
        "    str: Predicted career path\n",
        "    list: Top 3 career recommendations with probabilities\n",
        "    \"\"\"\n",
        "    # Convert to DataFrame\n",
        "    student_df = pd.DataFrame([student_data])\n",
        "\n",
        "    # Convert grades to numeric\n",
        "    grade_cols = ['Math_Grade', 'English_Grade', 'Kiswahili_Grade', 'Grade_4', 'Grade_5', 'Grade_6', 'Grade_7']\n",
        "    for col in grade_cols:\n",
        "        if col in student_df.columns:\n",
        "            student_df[col] = student_df[col].map(grade_mapping)\n",
        "\n",
        "    # Get prediction\n",
        "    prediction = model.predict(student_df)[0]\n",
        "\n",
        "    # Get prediction probabilities\n",
        "    proba = model.predict_proba(student_df)[0]\n",
        "    classes = model.classes_\n",
        "    top_3_idx = proba.argsort()[-3:][::-1]\n",
        "    top_3_careers = [(classes[i], round(proba[i] * 100, 2)) for i in top_3_idx]\n",
        "\n",
        "    return prediction, top_3_careers\n",
        "\n",
        "# Save the model\n",
        "joblib.dump(pipeline, 'career_recommendation_model.pkl')\n",
        "print(\"Model saved as 'career_recommendation_model.pkl'\")"
      ]
    },
    {
      "cell_type": "markdown",
      "metadata": {
        "id": "MPogTVR7KYK7"
      },
      "source": [
        "Testing our model"
      ]
    },
    {
      "cell_type": "code",
      "execution_count": null,
      "metadata": {
        "colab": {
          "base_uri": "https://localhost:8080/"
        },
        "id": "tUAtJ242KaJ7",
        "outputId": "115d7601-4049-4852-ef97-0ed4c652c7ec"
      },
      "outputs": [
        {
          "name": "stdout",
          "output_type": "stream",
          "text": [
            "Predicted career path: Accounting\n",
            "\n",
            "Top 3 career recommendations:\n",
            "  Accounting: 15.0%\n",
            "  Environmental Science: 15.0%\n",
            "  Food Science: 10.0%\n"
          ]
        }
      ],
      "source": [
        "# Cell 8: Test the model with a sample student\n",
        "sample_student = {\n",
        "    'Gender': 'Female',\n",
        "    'Math_Grade': 'A',\n",
        "    'English_Grade': 'B',\n",
        "    'Kiswahili_Grade': 'B',\n",
        "    'Subject_4': 'Biology',\n",
        "    'Subject_5': 'Chemistry',\n",
        "    'Subject_6': 'Physics',\n",
        "    'Subject_7': 'Computer Science',\n",
        "    'Grade_4': 'A',\n",
        "    'Grade_5': 'A',\n",
        "    'Grade_6': 'B',\n",
        "    'Grade_7': 'A',\n",
        "    'Took_All_Sciences': True,\n",
        "    'Average_Performance': 3.57\n",
        "}\n",
        "\n",
        "prediction, top_3_careers = predict_career(sample_student, pipeline)\n",
        "\n",
        "print(f\"Predicted career path: {prediction}\")\n",
        "print(\"\\nTop 3 career recommendations:\")\n",
        "for career, probability in top_3_careers:\n",
        "    print(f\"  {career}: {probability}%\")"
      ]
    },
    {
      "cell_type": "markdown",
      "metadata": {
        "id": "kigDvVRyKf2q"
      },
      "source": [
        "A function to take user input for new student and make predictions"
      ]
    },
    {
      "cell_type": "code",
      "execution_count": null,
      "metadata": {
        "colab": {
          "base_uri": "https://localhost:8080/"
        },
        "id": "c3NiBbZFKo2e",
        "outputId": "04e13284-8a9c-4e77-dc93-75406f4607e1"
      },
      "outputs": [
        {
          "name": "stdout",
          "output_type": "stream",
          "text": [
            "Enter student information:\n",
            "Gender (Male/Female): Male\n",
            "Math Grade (A/B/C/D/E/F): A\n",
            "English Grade (A/B/C/D/E/F): C\n",
            "Kiswahili Grade (A/B/C/D/E/F): B\n",
            "\n",
            "Select 4 optional subjects from:\n",
            "1. Biology\n",
            "2. Chemistry\n",
            "3. Physics\n",
            "4. Geography\n",
            "5. History\n",
            "6. Religion\n",
            "7. Business\n",
            "8. Computer Science\n",
            "9. Agriculture\n",
            "Enter 4 numbers separated by spaces (e.g., 1 2 3 4): 2 3 4 9\n",
            "Grade for Chemistry (A/B/C/D/E/F): C\n",
            "Grade for Physics (A/B/C/D/E/F): B\n",
            "Grade for Geography (A/B/C/D/E/F): A\n",
            "Grade for Agriculture (A/B/C/D/E/F): B\n",
            "\n",
            "Average Performance (GPA): 3.0\n",
            "Predicted career path: Telecommunications\n",
            "\n",
            "Top 3 career recommendations:\n",
            "  Telecommunications: 22.0%\n",
            "  Information Technology: 9.0%\n",
            "  Agricultural Science: 9.0%\n"
          ]
        }
      ],
      "source": [
        "# Cell 9: Create a function to get user input and make predictions\n",
        "def get_student_input():\n",
        "    \"\"\"Get student information from user input\"\"\"\n",
        "    print(\"Enter student information:\")\n",
        "\n",
        "    gender = input(\"Gender (Male/Female): \")\n",
        "\n",
        "    math_grade = input(\"Math Grade (A/B/C/D/E/F): \")\n",
        "    english_grade = input(\"English Grade (A/B/C/D/E/F): \")\n",
        "    kiswahili_grade = input(\"Kiswahili Grade (A/B/C/D/E/F): \")\n",
        "\n",
        "    print(\"\\nSelect 4 optional subjects from:\")\n",
        "    optional_subjects = [\"Biology\", \"Chemistry\", \"Physics\", \"Geography\", \"History\",\n",
        "                         \"Religion\", \"Business\", \"Computer Science\", \"Agriculture\"]\n",
        "    for i, subject in enumerate(optional_subjects, 1):\n",
        "        print(f\"{i}. {subject}\")\n",
        "\n",
        "    subject_indices = input(\"Enter 4 numbers separated by spaces (e.g., 1 2 3 4): \")\n",
        "    selected_indices = [int(idx) - 1 for idx in subject_indices.split()]\n",
        "\n",
        "    optional_subjects_selected = [optional_subjects[idx] for idx in selected_indices[:4]]\n",
        "\n",
        "    grades = []\n",
        "    for subject in optional_subjects_selected:\n",
        "        grade = input(f\"Grade for {subject} (A/B/C/D/E/F): \")\n",
        "        grades.append(grade)\n",
        "\n",
        "    # Check if all sciences are taken\n",
        "    took_all_sciences = all(subj in optional_subjects_selected for subj in [\"Biology\", \"Chemistry\", \"Physics\"])\n",
        "\n",
        "    # Calculate GPA\n",
        "    grade_points = {\"A\": 4.0, \"B\": 3.0, \"C\": 2.0, \"D\": 1.0, \"E\": 0.5, \"F\": 0.0}\n",
        "    all_grades = [math_grade, english_grade, kiswahili_grade] + grades\n",
        "    gpa = round(sum([grade_points[g] for g in all_grades]) / 7, 2)\n",
        "\n",
        "    student_data = {\n",
        "        \"Gender\": gender,\n",
        "        \"Math_Grade\": math_grade,\n",
        "        \"English_Grade\": english_grade,\n",
        "        \"Kiswahili_Grade\": kiswahili_grade,\n",
        "        \"Subject_4\": optional_subjects_selected[0],\n",
        "        \"Subject_5\": optional_subjects_selected[1],\n",
        "        \"Subject_6\": optional_subjects_selected[2],\n",
        "        \"Subject_7\": optional_subjects_selected[3],\n",
        "        \"Grade_4\": grades[0],\n",
        "        \"Grade_5\": grades[1],\n",
        "        \"Grade_6\": grades[2],\n",
        "        \"Grade_7\": grades[3],\n",
        "        \"Took_All_Sciences\": took_all_sciences,\n",
        "        \"Average_Performance\": gpa\n",
        "    }\n",
        "\n",
        "    return student_data\n",
        "\n",
        "# Load the model (in case we're running this separately)\n",
        "# model = joblib.load('career_recommendation_model.pkl')\n",
        "\n",
        "# Uncomment the following lines to run the interactive prediction\n",
        "student_data = get_student_input()\n",
        "prediction, top_3_careers = predict_career(student_data, pipeline)\n",
        "print(f\"\\nAverage Performance (GPA): {student_data['Average_Performance']}\")\n",
        "print(f\"Predicted career path: {prediction}\")\n",
        "print(\"\\nTop 3 career recommendations:\")\n",
        "for career, probability in top_3_careers:\n",
        "    print(f\"  {career}: {probability}%\")"
      ]
    },
    {
      "cell_type": "markdown",
      "metadata": {
        "id": "7o_Ygs0BLVqA"
      },
      "source": [
        "Download the model\n"
      ]
    },
    {
      "cell_type": "code",
      "execution_count": null,
      "metadata": {
        "colab": {
          "base_uri": "https://localhost:8080/",
          "height": 34
        },
        "id": "UaQnNqcQLbY9",
        "outputId": "459170d9-d8ca-43e5-986c-5fe6932e2587"
      },
      "outputs": [
        {
          "data": {
            "application/javascript": "\n    async function download(id, filename, size) {\n      if (!google.colab.kernel.accessAllowed) {\n        return;\n      }\n      const div = document.createElement('div');\n      const label = document.createElement('label');\n      label.textContent = `Downloading \"${filename}\": `;\n      div.appendChild(label);\n      const progress = document.createElement('progress');\n      progress.max = size;\n      div.appendChild(progress);\n      document.body.appendChild(div);\n\n      const buffers = [];\n      let downloaded = 0;\n\n      const channel = await google.colab.kernel.comms.open(id);\n      // Send a message to notify the kernel that we're ready.\n      channel.send({})\n\n      for await (const message of channel.messages) {\n        // Send a message to notify the kernel that we're ready.\n        channel.send({})\n        if (message.buffers) {\n          for (const buffer of message.buffers) {\n            buffers.push(buffer);\n            downloaded += buffer.byteLength;\n            progress.value = downloaded;\n          }\n        }\n      }\n      const blob = new Blob(buffers, {type: 'application/binary'});\n      const a = document.createElement('a');\n      a.href = window.URL.createObjectURL(blob);\n      a.download = filename;\n      div.appendChild(a);\n      a.click();\n      div.remove();\n    }\n  ",
            "text/plain": [
              "<IPython.core.display.Javascript object>"
            ]
          },
          "metadata": {},
          "output_type": "display_data"
        },
        {
          "data": {
            "application/javascript": "download(\"download_0b360933-ecab-4482-8643-fd1b788ec70f\", \"career_recommendation_model.pkl\", 27247594)",
            "text/plain": [
              "<IPython.core.display.Javascript object>"
            ]
          },
          "metadata": {},
          "output_type": "display_data"
        }
      ],
      "source": [
        "# Cell for downloading from Google Colab\n",
        "from google.colab import files\n",
        "\n",
        "# Save the model first\n",
        "joblib.dump(pipeline, 'career_recommendation_model.pkl')\n",
        "\n",
        "# Download the model file\n",
        "files.download('career_recommendation_model.pkl')"
      ]
    },
    {
      "cell_type": "code",
      "execution_count": null,
      "metadata": {},
      "outputs": [],
      "source": [
        "import seaborn as sns\n",
        "import matplotlib.pyplot as plt\n",
        "from sklearn.metrics import confusion_matrix\n",
        "\n",
        "# Sample data\n",
        "actual = [\"Software Engineering\", \"Data Science\", \"Graphic Design\", \"Marketing\", \"Software Engineering\"]\n",
        "predicted = [\"Software Engineering\", \"Graphic Design\", \"Data Science\", \"Marketing\", \"Data Science\"]\n",
        "\n",
        "# Create confusion matrix\n",
        "labels = [\"Software Engineering\", \"Data Science\", \"Graphic Design\", \"Marketing\"]\n",
        "cm = confusion_matrix(actual, predicted, labels=labels)\n",
        "\n",
        "# Plot\n",
        "plt.figure(figsize=(10, 7))\n",
        "sns.heatmap(cm, annot=True, fmt=\"d\", cmap=\"Blues\", xticklabels=labels, yticklabels=labels)\n",
        "plt.title(\"Career Guidance Confusion Matrix\")\n",
        "plt.xlabel(\"Predicted Career\")\n",
        "plt.ylabel(\"Actual Career\")\n",
        "plt.show()"
      ]
    }
  ],
  "metadata": {
    "colab": {
      "provenance": []
    },
    "kernelspec": {
      "display_name": "Python 3",
      "name": "python3"
    },
    "language_info": {
      "codemirror_mode": {
        "name": "ipython",
        "version": 3
      },
      "file_extension": ".py",
      "mimetype": "text/x-python",
      "name": "python",
      "nbconvert_exporter": "python",
      "pygments_lexer": "ipython3",
      "version": "3.11.0"
    }
  },
  "nbformat": 4,
  "nbformat_minor": 0
}
